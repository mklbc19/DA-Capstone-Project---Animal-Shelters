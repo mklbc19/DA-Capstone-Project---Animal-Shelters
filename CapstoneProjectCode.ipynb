{
 "cells": [
  {
   "cell_type": "markdown",
   "metadata": {},
   "source": [
    "This is where I am going to write out my code for this project."
   ]
  },
  {
   "cell_type": "markdown",
   "metadata": {},
   "source": [
    "Louisville Animal Shelter Data: https://data.louisvilleky.gov/datasets/louisville-metro-ky-animal-service-intake-and-outcome/about\n",
    "Nationwide Animal Shelter Data: https://www.shelteranimalscount.org/data-request-free-download/\n",
    "Dallas Animal Shelter Data: https://www.dallasopendata.com/Services/Dallas-Animal-Shelter-Data-Fiscal-Year-2022-2023/f77p-sgrc/about_data\n"
   ]
  },
  {
   "cell_type": "code",
   "execution_count": 1,
   "metadata": {},
   "outputs": [
    {
     "name": "stderr",
     "output_type": "stream",
     "text": [
      "\n",
      "[notice] A new release of pip is available: 24.0 -> 25.0.1\n",
      "[notice] To update, run: C:\\Users\\Melis\\AppData\\Local\\Microsoft\\WindowsApps\\PythonSoftwareFoundation.Python.3.11_qbz5n2kfra8p0\\python.exe -m pip install --upgrade pip\n"
     ]
    },
    {
     "name": "stdout",
     "output_type": "stream",
     "text": [
      "Requirement already satisfied: seaborn in c:\\users\\melis\\appdata\\local\\packages\\pythonsoftwarefoundation.python.3.11_qbz5n2kfra8p0\\localcache\\local-packages\\python311\\site-packages (0.13.2)\n",
      "Requirement already satisfied: numpy!=1.24.0,>=1.20 in c:\\users\\melis\\appdata\\local\\packages\\pythonsoftwarefoundation.python.3.11_qbz5n2kfra8p0\\localcache\\local-packages\\python311\\site-packages (from seaborn) (2.2.3)\n",
      "Requirement already satisfied: pandas>=1.2 in c:\\users\\melis\\appdata\\local\\packages\\pythonsoftwarefoundation.python.3.11_qbz5n2kfra8p0\\localcache\\local-packages\\python311\\site-packages (from seaborn) (2.2.3)\n",
      "Requirement already satisfied: matplotlib!=3.6.1,>=3.4 in c:\\users\\melis\\appdata\\local\\packages\\pythonsoftwarefoundation.python.3.11_qbz5n2kfra8p0\\localcache\\local-packages\\python311\\site-packages (from seaborn) (3.10.1)\n",
      "Requirement already satisfied: contourpy>=1.0.1 in c:\\users\\melis\\appdata\\local\\packages\\pythonsoftwarefoundation.python.3.11_qbz5n2kfra8p0\\localcache\\local-packages\\python311\\site-packages (from matplotlib!=3.6.1,>=3.4->seaborn) (1.3.1)\n",
      "Requirement already satisfied: cycler>=0.10 in c:\\users\\melis\\appdata\\local\\packages\\pythonsoftwarefoundation.python.3.11_qbz5n2kfra8p0\\localcache\\local-packages\\python311\\site-packages (from matplotlib!=3.6.1,>=3.4->seaborn) (0.12.1)\n",
      "Requirement already satisfied: fonttools>=4.22.0 in c:\\users\\melis\\appdata\\local\\packages\\pythonsoftwarefoundation.python.3.11_qbz5n2kfra8p0\\localcache\\local-packages\\python311\\site-packages (from matplotlib!=3.6.1,>=3.4->seaborn) (4.56.0)\n",
      "Requirement already satisfied: kiwisolver>=1.3.1 in c:\\users\\melis\\appdata\\local\\packages\\pythonsoftwarefoundation.python.3.11_qbz5n2kfra8p0\\localcache\\local-packages\\python311\\site-packages (from matplotlib!=3.6.1,>=3.4->seaborn) (1.4.8)\n",
      "Requirement already satisfied: packaging>=20.0 in c:\\users\\melis\\appdata\\local\\packages\\pythonsoftwarefoundation.python.3.11_qbz5n2kfra8p0\\localcache\\local-packages\\python311\\site-packages (from matplotlib!=3.6.1,>=3.4->seaborn) (24.1)\n",
      "Requirement already satisfied: pillow>=8 in c:\\users\\melis\\appdata\\local\\packages\\pythonsoftwarefoundation.python.3.11_qbz5n2kfra8p0\\localcache\\local-packages\\python311\\site-packages (from matplotlib!=3.6.1,>=3.4->seaborn) (11.1.0)\n",
      "Requirement already satisfied: pyparsing>=2.3.1 in c:\\users\\melis\\appdata\\local\\packages\\pythonsoftwarefoundation.python.3.11_qbz5n2kfra8p0\\localcache\\local-packages\\python311\\site-packages (from matplotlib!=3.6.1,>=3.4->seaborn) (3.2.1)\n",
      "Requirement already satisfied: python-dateutil>=2.7 in c:\\users\\melis\\appdata\\local\\packages\\pythonsoftwarefoundation.python.3.11_qbz5n2kfra8p0\\localcache\\local-packages\\python311\\site-packages (from matplotlib!=3.6.1,>=3.4->seaborn) (2.9.0.post0)\n",
      "Requirement already satisfied: pytz>=2020.1 in c:\\users\\melis\\appdata\\local\\packages\\pythonsoftwarefoundation.python.3.11_qbz5n2kfra8p0\\localcache\\local-packages\\python311\\site-packages (from pandas>=1.2->seaborn) (2025.1)\n",
      "Requirement already satisfied: tzdata>=2022.7 in c:\\users\\melis\\appdata\\local\\packages\\pythonsoftwarefoundation.python.3.11_qbz5n2kfra8p0\\localcache\\local-packages\\python311\\site-packages (from pandas>=1.2->seaborn) (2025.1)\n",
      "Requirement already satisfied: six>=1.5 in c:\\users\\melis\\appdata\\local\\packages\\pythonsoftwarefoundation.python.3.11_qbz5n2kfra8p0\\localcache\\local-packages\\python311\\site-packages (from python-dateutil>=2.7->matplotlib!=3.6.1,>=3.4->seaborn) (1.16.0)\n"
     ]
    }
   ],
   "source": [
    "import matplotlib.pyplot as plt\n",
    "!pip install seaborn\n",
    "import seaborn as sns\n",
    "import pandas as pd\n",
    "import numpy as np"
   ]
  },
  {
   "cell_type": "code",
   "execution_count": 2,
   "metadata": {},
   "outputs": [
    {
     "name": "stdout",
     "output_type": "stream",
     "text": [
      "Requirement already satisfied: pandas in c:\\users\\melis\\appdata\\local\\packages\\pythonsoftwarefoundation.python.3.11_qbz5n2kfra8p0\\localcache\\local-packages\\python311\\site-packages (2.2.3)\n",
      "Requirement already satisfied: openpyxl in c:\\users\\melis\\appdata\\local\\packages\\pythonsoftwarefoundation.python.3.11_qbz5n2kfra8p0\\localcache\\local-packages\\python311\\site-packages (3.1.5)\n",
      "Requirement already satisfied: numpy>=1.23.2 in c:\\users\\melis\\appdata\\local\\packages\\pythonsoftwarefoundation.python.3.11_qbz5n2kfra8p0\\localcache\\local-packages\\python311\\site-packages (from pandas) (2.2.3)\n",
      "Requirement already satisfied: python-dateutil>=2.8.2 in c:\\users\\melis\\appdata\\local\\packages\\pythonsoftwarefoundation.python.3.11_qbz5n2kfra8p0\\localcache\\local-packages\\python311\\site-packages (from pandas) (2.9.0.post0)\n",
      "Requirement already satisfied: pytz>=2020.1 in c:\\users\\melis\\appdata\\local\\packages\\pythonsoftwarefoundation.python.3.11_qbz5n2kfra8p0\\localcache\\local-packages\\python311\\site-packages (from pandas) (2025.1)\n",
      "Requirement already satisfied: tzdata>=2022.7 in c:\\users\\melis\\appdata\\local\\packages\\pythonsoftwarefoundation.python.3.11_qbz5n2kfra8p0\\localcache\\local-packages\\python311\\site-packages (from pandas) (2025.1)\n",
      "Requirement already satisfied: et-xmlfile in c:\\users\\melis\\appdata\\local\\packages\\pythonsoftwarefoundation.python.3.11_qbz5n2kfra8p0\\localcache\\local-packages\\python311\\site-packages (from openpyxl) (2.0.0)\n",
      "Requirement already satisfied: six>=1.5 in c:\\users\\melis\\appdata\\local\\packages\\pythonsoftwarefoundation.python.3.11_qbz5n2kfra8p0\\localcache\\local-packages\\python311\\site-packages (from python-dateutil>=2.8.2->pandas) (1.16.0)\n",
      "Note: you may need to restart the kernel to use updated packages.\n"
     ]
    },
    {
     "name": "stderr",
     "output_type": "stream",
     "text": [
      "\n",
      "[notice] A new release of pip is available: 24.0 -> 25.0.1\n",
      "[notice] To update, run: C:\\Users\\Melis\\AppData\\Local\\Microsoft\\WindowsApps\\PythonSoftwareFoundation.Python.3.11_qbz5n2kfra8p0\\python.exe -m pip install --upgrade pip\n"
     ]
    }
   ],
   "source": [
    "pip install pandas openpyxl"
   ]
  },
  {
   "cell_type": "code",
   "execution_count": 3,
   "metadata": {},
   "outputs": [
    {
     "name": "stdout",
     "output_type": "stream",
     "text": [
      "         kennel animalid jurisdiction      intype insubtype     indate  \\\n",
      "1       FREEZER  A617968        40215   OWNER SUR     FIELD 2022-12-14   \n",
      "25          N18  A678153        40212       STRAY     FIELD 2022-02-15   \n",
      "27     ACO UNIT  A678153        40212  CONFISCATE  EVICTION 2022-01-13   \n",
      "37         ID04  A692417        40214       STRAY       OTC 2022-02-10   \n",
      "48          N07  A648980        40211       STRAY     FIELD 2022-12-16   \n",
      "...         ...      ...          ...         ...       ...        ...   \n",
      "51921      SNIP  A704643        40208       STRAY       OTC 2022-01-24   \n",
      "52228      LOST  A729871          NaN        LOST       WEB 2022-04-20   \n",
      "52256      LOST  A730892          NaN        LOST       WEB 2022-12-21   \n",
      "52432      SNIP  A704513        40291       STRAY       OTC 2022-01-04   \n",
      "52581      LOST  A731300          NaN        LOST       WEB 2022-06-17   \n",
      "\n",
      "      surreason   outtype outsubtype              outdate animaltype sex  \\\n",
      "1         STRAY      EUTH  REQUESTED  2022-12-14 00:00:00        DOG   F   \n",
      "25        STRAY  ADOPTION    WALK IN  2022-03-04 00:00:00        DOG   N   \n",
      "27      UNKNOWN       RTO   IN FIELD  2022-01-13 00:00:00        DOG   N   \n",
      "37        STRAY       RTO  IN KENNEL  2022-02-12 00:00:00        DOG   M   \n",
      "48        STRAY  ADOPTION    WALK IN  2023-01-15 00:00:00        DOG   S   \n",
      "...         ...       ...        ...                  ...        ...  ..   \n",
      "51921     STRAY       TNR  CARETAKER  2022-01-26 00:00:00        CAT   S   \n",
      "52228       NaN       NaN        NaN                  NaN        CAT   M   \n",
      "52256       NaN       NaN        NaN                  NaN        CAT   M   \n",
      "52432     STRAY       TNR  CARETAKER  2022-01-06 00:00:00        CAT   N   \n",
      "52581       NaN       NaN        NaN                  NaN        DOG   M   \n",
      "\n",
      "      bites petsize          color           breed sourcezipcode  ObjectId  \n",
      "1         N     MED  WHITE / BLACK   LABRADOR RETR         40218         2  \n",
      "25        N     MED  BROWN / WHITE  PIT BULL / MIX         40218        26  \n",
      "27        N     MED  BROWN / WHITE  PIT BULL / MIX         40202        28  \n",
      "37        N   LARGE  BROWN / BLACK   GERM SHEPHERD         40214        38  \n",
      "48        N   LARGE   GRAY / WHITE        PIT BULL         40218        49  \n",
      "...     ...     ...            ...             ...           ...       ...  \n",
      "51921     N     MED          BLACK     DOMESTIC SH         40208     51922  \n",
      "52228   NaN     MED          BROWN     DOMESTIC SH           NaN     52229  \n",
      "52256   NaN     MED        UNKNOWN     DOMESTIC MH           NaN     52257  \n",
      "52432     N     MED  BLACK / WHITE     DOMESTIC MH         40291     52433  \n",
      "52581   NaN     MED          WHITE        SHIH TZU           NaN     52582  \n",
      "\n",
      "[12833 rows x 18 columns]\n"
     ]
    }
   ],
   "source": [
    "df = pd.read_csv('Animal_IO_Data.csv')\n",
    "df['indate'] = pd.to_datetime(df['indate'], errors='coerce')\n",
    "df = df[df['indate'].dt.year == 2022]\n",
    "\n",
    "print(df)"
   ]
  },
  {
   "cell_type": "markdown",
   "metadata": {},
   "source": [
    "Want to import another city's data, to have a closer comparison.  I was seeing an erorr with the data before importing, so I did research and found the \"usecols\" function."
   ]
  },
  {
   "cell_type": "code",
   "execution_count": 4,
   "metadata": {},
   "outputs": [
    {
     "name": "stdout",
     "output_type": "stream",
     "text": [
      "      Animal Type     Animal Breed      Intake Type Intake Subtype  \\\n",
      "4             DOG    SCHNAUZER MIN         TRANSFER          STRAY   \n",
      "6             DOG            HUSKY            STRAY       AT LARGE   \n",
      "11            DOG     CHIHUAHUA SH  OWNER SURRENDER         URGENT   \n",
      "16            DOG      MIXED BREED  OWNER SURRENDER        APPOINT   \n",
      "20            DOG     CHIHUAHUA SH  OWNER SURRENDER        WALK IN   \n",
      "...           ...              ...              ...            ...   \n",
      "34435         CAT        CHARTREUX            STRAY            WEB   \n",
      "34451         DOG  AM PIT BULL TER            STRAY            WEB   \n",
      "34461         DOG      COCKER SPAN            STRAY            WEB   \n",
      "34464         DOG    LABRADOR RETR            STRAY            WEB   \n",
      "34472         DOG          MALTESE            STRAY            WEB   \n",
      "\n",
      "      Intake Date Outcome Type Outcome Subtype   Month    Year  \n",
      "4      2022-11-08     TRANSFER         GENERAL  FY2024  FY2023  \n",
      "6      2022-12-16   EUTHANIZED         MEDICAL  FY2024  FY2023  \n",
      "11     2022-10-19   EUTHANIZED          HUMANE  FY2024  FY2023  \n",
      "16     2022-10-31     ADOPTION      WESTMORELD  FY2024  FY2023  \n",
      "20     2022-11-14   EUTHANIZED          HUMANE  FY2024  FY2023  \n",
      "...           ...          ...             ...     ...     ...  \n",
      "34435  2022-10-07     LOST EXP           OTHER  FY2024  FY2023  \n",
      "34451  2022-12-21     LOST EXP           OTHER  FY2024  FY2023  \n",
      "34461  2022-12-01     LOST EXP           OTHER  FY2024  FY2023  \n",
      "34464  2022-11-22     LOST EXP           OTHER  FY2024  FY2023  \n",
      "34472  2022-10-26     LOST EXP           OTHER  FY2024  FY2023  \n",
      "\n",
      "[7266 rows x 9 columns]\n"
     ]
    }
   ],
   "source": [
    "columns_to_include = ['Animal Type', 'Animal Breed', 'Intake Type', 'Intake Subtype', 'Intake Date', 'Outcome Type', 'Outcome Subtype', 'Month', 'Year']\n",
    "df3 = pd.read_csv('Dallas_Animal_Shelter_Data_Fiscal_Year_2022_-_2023.csv', usecols=columns_to_include)\n",
    "df3['Intake Date'] = pd.to_datetime(df3['Intake Date'], errors='coerce')\n",
    "df3 = df3[df3['Intake Date'].dt.year == 2022]\n",
    "print(df3)"
   ]
  },
  {
   "cell_type": "code",
   "execution_count": 5,
   "metadata": {},
   "outputs": [
    {
     "name": "stdout",
     "output_type": "stream",
     "text": [
      "State\n",
      "Year\n",
      "Intake - Relinquished By Owner Total-Feline\n",
      "Intake - Stray At Large Total-Feline\n",
      "Intake - Transferred In Total-Feline\n",
      "Intake - Owner Intended Euthanasia Total-Feline\n",
      "Intakes - Other Intakes Total-Feline\n",
      "Live Outcome - Adoption Total-Feline\n",
      "Live Outcome - Returned To Owner Total-Feline\n",
      "Live Outcome - Returned To Field Total-Feline\n",
      "Live Outcome - Transferred Out Total-Feline\n",
      "Live outcome - Other Live Outcome Total-Feline\n",
      "Other Outcome - Died In Care Total-Feline\n",
      "Other Outcome - Lost In Care Total-Feline\n",
      "Other Outcome - Owner Intended Euthanasia Total-Feline\n",
      "Other Outcome - Shelter Euthanasia Total-Feline\n",
      "Intake - Relinquished By Owner Total-Canine\n",
      "Intake - Stray At Large Total-Canine\n",
      "Intake - Transferred In Total-Canine\n",
      "Intake - Owner Intended Euthanasia Total-Canine\n",
      "Intakes - Other Intakes Total-Canine\n",
      "Live Outcome - Adoption Total-Canine\n",
      "Live Outcome - Returned To Owner Total-Canine\n",
      "Live Outcome - Returned To Field Total-Canine\n",
      "Live Outcome - Transferred Out Total-Canine\n",
      "Live outcome - Other Live Outcome Total-Canine\n",
      "Other Outcome - Died In Care Total-Canine\n",
      "Other Outcome - Lost In Care Total-Canine\n",
      "Other Outcome - Owner Intended Euthanasia Total-Canine\n",
      "Other Outcome - Shelter Euthanasia Total-Canine\n"
     ]
    }
   ],
   "source": [
    "df2 = pd.read_excel('3 year 21-22-23 SAC Agg.xlsx')\n",
    "df2.drop(columns=['Organizations'], inplace=True)\n",
    "for col in df2.columns:\n",
    "    print(col)\n",
    "df2.dtypes\n",
    "df2 = df2[df2['Year'] == 2022]\n",
    "df2.reset_index(drop=True, inplace=True)\n",
    "df2 = df2[df2['State'].isin(['KY', 'TX'])]  "
   ]
  },
  {
   "cell_type": "code",
   "execution_count": 6,
   "metadata": {},
   "outputs": [
    {
     "name": "stdout",
     "output_type": "stream",
     "text": [
      "   State  Year  Intake - Relinquished By Owner Total-Feline  \\\n",
      "16    KY  2022                                         5933   \n",
      "43    TX  2022                                        21698   \n",
      "\n",
      "    Intake - Stray At Large Total-Feline  \\\n",
      "16                                  7174   \n",
      "43                                 35938   \n",
      "\n",
      "    Intake - Transferred In Total-Feline  \\\n",
      "16                                  2716   \n",
      "43                                 20682   \n",
      "\n",
      "    Intake - Owner Intended Euthanasia Total-Feline  \\\n",
      "16                                               65   \n",
      "43                                              918   \n",
      "\n",
      "    Intakes - Other Intakes Total-Feline  \\\n",
      "16                                   482   \n",
      "43                                  7034   \n",
      "\n",
      "    Live Outcome - Adoption Total-Feline  \\\n",
      "16                                  8872   \n",
      "43                                 52341   \n",
      "\n",
      "    Live Outcome - Returned To Owner Total-Feline  \\\n",
      "16                                            348   \n",
      "43                                           1089   \n",
      "\n",
      "    Live Outcome - Returned To Field Total-Feline  ...  \\\n",
      "16                                           1597  ...   \n",
      "43                                           6121  ...   \n",
      "\n",
      "    Intakes - Other Intakes Total-Canine  \\\n",
      "16                                   980   \n",
      "43                                  9579   \n",
      "\n",
      "    Live Outcome - Adoption Total-Canine  \\\n",
      "16                                  8368   \n",
      "43                                 61679   \n",
      "\n",
      "    Live Outcome - Returned To Owner Total-Canine  \\\n",
      "16                                           3094   \n",
      "43                                          11587   \n",
      "\n",
      "    Live Outcome - Returned To Field Total-Canine  \\\n",
      "16                                              1   \n",
      "43                                            976   \n",
      "\n",
      "    Live Outcome - Transferred Out Total-Canine  \\\n",
      "16                                         4485   \n",
      "43                                        29602   \n",
      "\n",
      "    Live outcome - Other Live Outcome Total-Canine  \\\n",
      "16                                              11   \n",
      "43                                             759   \n",
      "\n",
      "    Other Outcome - Died In Care Total-Canine  \\\n",
      "16                                        186   \n",
      "43                                       2026   \n",
      "\n",
      "    Other Outcome - Lost In Care Total-Canine  \\\n",
      "16                                          5   \n",
      "43                                        251   \n",
      "\n",
      "    Other Outcome - Owner Intended Euthanasia Total-Canine  \\\n",
      "16                                                112        \n",
      "43                                               2345        \n",
      "\n",
      "    Other Outcome - Shelter Euthanasia Total-Canine  \n",
      "16                                             1404  \n",
      "43                                            11958  \n",
      "\n",
      "[2 rows x 30 columns]\n"
     ]
    }
   ],
   "source": [
    "print(df2)"
   ]
  },
  {
   "cell_type": "code",
   "execution_count": 7,
   "metadata": {},
   "outputs": [
    {
     "name": "stdout",
     "output_type": "stream",
     "text": [
      "   State  Total_Intakes  Total_Outcomes\n",
      "16    KY          34792           33060\n",
      "43    TX         209938          206459\n"
     ]
    }
   ],
   "source": [
    "pattern_of_intake = 'Intake'\n",
    "pattern_of_outcome = 'Outcome'\n",
    "intake_columns = [col for col in df2.columns if pattern_of_intake in col]\n",
    "outcome_columns = [col for col in df2.columns if pattern_of_outcome in col]\n",
    "df2['Total_Intakes'] = df2[intake_columns].sum(axis=1)\n",
    "df2['Total_Outcomes'] = df2[outcome_columns].sum(axis=1)\n",
    "print(df2[['State', 'Total_Intakes', 'Total_Outcomes']])"
   ]
  },
  {
   "cell_type": "code",
   "execution_count": 8,
   "metadata": {},
   "outputs": [
    {
     "name": "stdout",
     "output_type": "stream",
     "text": [
      "           intype insubtype     indate surreason   outtype outsubtype  \\\n",
      "1       OWNER SUR     FIELD 2022-12-14     STRAY      EUTH  REQUESTED   \n",
      "25          STRAY     FIELD 2022-02-15     STRAY  ADOPTION    WALK IN   \n",
      "27     CONFISCATE  EVICTION 2022-01-13   UNKNOWN       RTO   IN FIELD   \n",
      "37          STRAY       OTC 2022-02-10     STRAY       RTO  IN KENNEL   \n",
      "48          STRAY     FIELD 2022-12-16     STRAY  ADOPTION    WALK IN   \n",
      "...           ...       ...        ...       ...       ...        ...   \n",
      "51763       STRAY       OTC 2022-01-24     STRAY       TNR  CARETAKER   \n",
      "51915       STRAY       OTC 2022-01-04     STRAY       TNR  CARETAKER   \n",
      "51918       STRAY       OTC 2022-01-04     STRAY       TNR  CARETAKER   \n",
      "51921       STRAY       OTC 2022-01-24     STRAY       TNR  CARETAKER   \n",
      "52432       STRAY       OTC 2022-01-04     STRAY       TNR  CARETAKER   \n",
      "\n",
      "                   outdate animaltype bites petsize  \n",
      "1      2022-12-14 00:00:00        DOG     N     MED  \n",
      "25     2022-03-04 00:00:00        DOG     N     MED  \n",
      "27     2022-01-13 00:00:00        DOG     N     MED  \n",
      "37     2022-02-12 00:00:00        DOG     N   LARGE  \n",
      "48     2023-01-15 00:00:00        DOG     N   LARGE  \n",
      "...                    ...        ...   ...     ...  \n",
      "51763  2022-01-26 00:00:00        CAT     N     MED  \n",
      "51915  2022-01-06 00:00:00        CAT     N     MED  \n",
      "51918  2022-01-06 00:00:00        CAT     N     MED  \n",
      "51921  2022-01-26 00:00:00        CAT     N     MED  \n",
      "52432  2022-01-06 00:00:00        CAT     N     MED  \n",
      "\n",
      "[7685 rows x 10 columns]\n"
     ]
    }
   ],
   "source": [
    "df.drop(columns=['kennel', 'animalid', 'jurisdiction', 'sex', 'color', 'breed', 'sourcezipcode', 'ObjectId'], inplace=True)\n",
    "df = df.dropna()\n",
    "print (df)"
   ]
  },
  {
   "cell_type": "code",
   "execution_count": 9,
   "metadata": {},
   "outputs": [
    {
     "name": "stdout",
     "output_type": "stream",
     "text": [
      "           intype insubtype     indate surreason   outtype outsubtype  \\\n",
      "1       OWNER SUR     FIELD 2022-12-14     STRAY      EUTH  REQUESTED   \n",
      "25          STRAY     FIELD 2022-02-15     STRAY  ADOPTION    WALK IN   \n",
      "27     CONFISCATE  EVICTION 2022-01-13   UNKNOWN       RTO   IN FIELD   \n",
      "37          STRAY       OTC 2022-02-10     STRAY       RTO  IN KENNEL   \n",
      "48          STRAY     FIELD 2022-12-16     STRAY  ADOPTION    WALK IN   \n",
      "...           ...       ...        ...       ...       ...        ...   \n",
      "51763       STRAY       OTC 2022-01-24     STRAY       TNR  CARETAKER   \n",
      "51915       STRAY       OTC 2022-01-04     STRAY       TNR  CARETAKER   \n",
      "51918       STRAY       OTC 2022-01-04     STRAY       TNR  CARETAKER   \n",
      "51921       STRAY       OTC 2022-01-24     STRAY       TNR  CARETAKER   \n",
      "52432       STRAY       OTC 2022-01-04     STRAY       TNR  CARETAKER   \n",
      "\n",
      "         outdate animaltype bites petsize  \n",
      "1     2022-12-14        DOG     N     MED  \n",
      "25    2022-03-04        DOG     N     MED  \n",
      "27    2022-01-13        DOG     N     MED  \n",
      "37    2022-02-12        DOG     N   LARGE  \n",
      "48    2023-01-15        DOG     N   LARGE  \n",
      "...          ...        ...   ...     ...  \n",
      "51763 2022-01-26        CAT     N     MED  \n",
      "51915 2022-01-06        CAT     N     MED  \n",
      "51918 2022-01-06        CAT     N     MED  \n",
      "51921 2022-01-26        CAT     N     MED  \n",
      "52432 2022-01-06        CAT     N     MED  \n",
      "\n",
      "[7685 rows x 10 columns]\n"
     ]
    }
   ],
   "source": [
    "df['indate'] = pd.to_datetime(df['indate'])\n",
    "df_remove =df[~df['indate'].dt.year.isin([2024, 2025])]\n",
    "df['outdate'] = pd.to_datetime(df['outdate'])\n",
    "df_remove =df[~df['outdate'].dt.year.isin([2024, 2025])]\n",
    "print(df)"
   ]
  },
  {
   "cell_type": "markdown",
   "metadata": {},
   "source": [
    "I am going to combine all the intake columns into one, and do the same for the outtake columns.  I did use AI to help with this.\n"
   ]
  },
  {
   "cell_type": "code",
   "execution_count": 10,
   "metadata": {},
   "outputs": [
    {
     "name": "stdout",
     "output_type": "stream",
     "text": [
      "   State  Year  Intake - Relinquished By Owner Total-Feline  \\\n",
      "16    KY  2022                                         5933   \n",
      "43    TX  2022                                        21698   \n",
      "\n",
      "    Intake - Stray At Large Total-Feline  \\\n",
      "16                                  7174   \n",
      "43                                 35938   \n",
      "\n",
      "    Intake - Transferred In Total-Feline  \\\n",
      "16                                  2716   \n",
      "43                                 20682   \n",
      "\n",
      "    Intake - Owner Intended Euthanasia Total-Feline  \\\n",
      "16                                               65   \n",
      "43                                              918   \n",
      "\n",
      "    Intakes - Other Intakes Total-Feline  \\\n",
      "16                                   482   \n",
      "43                                  7034   \n",
      "\n",
      "    Live Outcome - Adoption Total-Feline  \\\n",
      "16                                  8872   \n",
      "43                                 52341   \n",
      "\n",
      "    Live Outcome - Returned To Owner Total-Feline  \\\n",
      "16                                            348   \n",
      "43                                           1089   \n",
      "\n",
      "    Live Outcome - Returned To Field Total-Feline  ...  \\\n",
      "16                                           1597  ...   \n",
      "43                                           6121  ...   \n",
      "\n",
      "    Live Outcome - Transferred Out Total-Canine  \\\n",
      "16                                         4485   \n",
      "43                                        29602   \n",
      "\n",
      "    Live outcome - Other Live Outcome Total-Canine  \\\n",
      "16                                              11   \n",
      "43                                             759   \n",
      "\n",
      "    Other Outcome - Died In Care Total-Canine  \\\n",
      "16                                        186   \n",
      "43                                       2026   \n",
      "\n",
      "    Other Outcome - Lost In Care Total-Canine  \\\n",
      "16                                          5   \n",
      "43                                        251   \n",
      "\n",
      "    Other Outcome - Owner Intended Euthanasia Total-Canine  \\\n",
      "16                                                112        \n",
      "43                                               2345        \n",
      "\n",
      "    Other Outcome - Shelter Euthanasia Total-Canine  Total_Intakes  \\\n",
      "16                                             1404          34792   \n",
      "43                                            11958         209938   \n",
      "\n",
      "    Total_Outcomes  Combined_National_Intake  Combined_National_Outcome  \n",
      "16           33060                     69584                      66120  \n",
      "43          206459                    419876                     412918  \n",
      "\n",
      "[2 rows x 34 columns]\n"
     ]
    }
   ],
   "source": [
    "intake_columns = [col for col in df2.columns if 'Intake' in col]\n",
    "df2['Combined_National_Intake'] = df2[intake_columns].sum(axis=1)\n",
    "outtake_columns = [col for col in df2.columns if 'Outcome' in col]\n",
    "df2['Combined_National_Outcome'] = df2[outtake_columns].sum(axis=1)\n",
    "print(df2)"
   ]
  },
  {
   "cell_type": "code",
   "execution_count": 11,
   "metadata": {},
   "outputs": [
    {
     "name": "stdout",
     "output_type": "stream",
     "text": [
      "Grouped by state and sum total:\n",
      "  State  Combined_National_Intake  Combined_National_Outcome\n",
      "0    KY                     69584                      66120\n",
      "1    TX                    419876                     412918\n"
     ]
    }
   ],
   "source": [
    "df2_grouping = df2.groupby('State' , as_index=False)['Combined_National_Intake'].sum()\n",
    "df2_grouping2 = df2.groupby('State' , as_index=False)['Combined_National_Outcome'].sum()\n",
    "df2_grouped = pd.merge(df2_grouping, df2_grouping2, on='State')\n",
    "print(\"Grouped by state and sum total:\")\n",
    "print(df2_grouped)"
   ]
  },
  {
   "cell_type": "code",
   "execution_count": 12,
   "metadata": {},
   "outputs": [
    {
     "name": "stdout",
     "output_type": "stream",
     "text": [
      "     Louisville_intype Louisville_insubtype Louisville_indate  \\\n",
      "0            OWNER SUR                FIELD        2022-12-14   \n",
      "1                STRAY                FIELD        2022-02-15   \n",
      "2           CONFISCATE             EVICTION        2022-01-13   \n",
      "3                STRAY                  OTC        2022-02-10   \n",
      "4                STRAY                FIELD        2022-12-16   \n",
      "...                ...                  ...               ...   \n",
      "7680             STRAY                  OTC        2022-01-24   \n",
      "7681             STRAY                  OTC        2022-01-04   \n",
      "7682             STRAY                  OTC        2022-01-04   \n",
      "7683             STRAY                  OTC        2022-01-24   \n",
      "7684             STRAY                  OTC        2022-01-04   \n",
      "\n",
      "     Louisville_surreason Louisville_outtype Louisville_outsubtype  \\\n",
      "0                   STRAY               EUTH             REQUESTED   \n",
      "1                   STRAY           ADOPTION               WALK IN   \n",
      "2                 UNKNOWN                RTO              IN FIELD   \n",
      "3                   STRAY                RTO             IN KENNEL   \n",
      "4                   STRAY           ADOPTION               WALK IN   \n",
      "...                   ...                ...                   ...   \n",
      "7680                STRAY                TNR             CARETAKER   \n",
      "7681                STRAY                TNR             CARETAKER   \n",
      "7682                STRAY                TNR             CARETAKER   \n",
      "7683                STRAY                TNR             CARETAKER   \n",
      "7684                STRAY                TNR             CARETAKER   \n",
      "\n",
      "     Louisville_outdate Louisville_animaltype Louisville_bites  \\\n",
      "0            2022-12-14                   DOG                N   \n",
      "1            2022-03-04                   DOG                N   \n",
      "2            2022-01-13                   DOG                N   \n",
      "3            2022-02-12                   DOG                N   \n",
      "4            2023-01-15                   DOG                N   \n",
      "...                 ...                   ...              ...   \n",
      "7680         2022-01-26                   CAT                N   \n",
      "7681         2022-01-06                   CAT                N   \n",
      "7682         2022-01-06                   CAT                N   \n",
      "7683         2022-01-26                   CAT                N   \n",
      "7684         2022-01-06                   CAT                N   \n",
      "\n",
      "     Louisville_petsize Dallas_Animal Type Dallas_Animal Breed  \\\n",
      "0                   MED                DOG       SCHNAUZER MIN   \n",
      "1                   MED                DOG               HUSKY   \n",
      "2                   MED                DOG        CHIHUAHUA SH   \n",
      "3                 LARGE                DOG         MIXED BREED   \n",
      "4                 LARGE                DOG        CHIHUAHUA SH   \n",
      "...                 ...                ...                 ...   \n",
      "7680                MED                NaN                 NaN   \n",
      "7681                MED                NaN                 NaN   \n",
      "7682                MED                NaN                 NaN   \n",
      "7683                MED                NaN                 NaN   \n",
      "7684                MED                NaN                 NaN   \n",
      "\n",
      "     Dallas_Intake Type Dallas_Intake Subtype Dallas_Intake Date  \\\n",
      "0              TRANSFER                 STRAY         2022-11-08   \n",
      "1                 STRAY              AT LARGE         2022-12-16   \n",
      "2       OWNER SURRENDER                URGENT         2022-10-19   \n",
      "3       OWNER SURRENDER               APPOINT         2022-10-31   \n",
      "4       OWNER SURRENDER               WALK IN         2022-11-14   \n",
      "...                 ...                   ...                ...   \n",
      "7680                NaN                   NaN                NaT   \n",
      "7681                NaN                   NaN                NaT   \n",
      "7682                NaN                   NaN                NaT   \n",
      "7683                NaN                   NaN                NaT   \n",
      "7684                NaN                   NaN                NaT   \n",
      "\n",
      "     Dallas_Outcome Type Dallas_Outcome Subtype Dallas_Month Dallas_Year  \n",
      "0               TRANSFER                GENERAL       FY2024      FY2023  \n",
      "1             EUTHANIZED                MEDICAL       FY2024      FY2023  \n",
      "2             EUTHANIZED                 HUMANE       FY2024      FY2023  \n",
      "3               ADOPTION             WESTMORELD       FY2024      FY2023  \n",
      "4             EUTHANIZED                 HUMANE       FY2024      FY2023  \n",
      "...                  ...                    ...          ...         ...  \n",
      "7680                 NaN                    NaN          NaN         NaN  \n",
      "7681                 NaN                    NaN          NaN         NaN  \n",
      "7682                 NaN                    NaN          NaN         NaN  \n",
      "7683                 NaN                    NaN          NaN         NaN  \n",
      "7684                 NaN                    NaN          NaN         NaN  \n",
      "\n",
      "[7685 rows x 19 columns]\n"
     ]
    }
   ],
   "source": [
    "df = df.reset_index(drop=True)\n",
    "df3 = df3.reset_index(drop=True)\n",
    "merged_df = pd.concat([df, df3], axis=1)\n",
    "\n",
    "df.columns = ['Louisville_' + col for col in df.columns]\n",
    "df3.columns = ['Dallas_' + col for col in df3.columns]\n",
    "\n",
    "merged_df = pd.concat([df, df3], axis=1)\n",
    "\n",
    "print(merged_df)"
   ]
  },
  {
   "cell_type": "markdown",
   "metadata": {},
   "source": [
    "combined_df = pd.concat([df, df3], axis=0, ignore_index=True)\n",
    "pd.set_option('display.max_rows', None)\n",
    "pd.set_option('display.max_columns', None)\n",
    "pd.set_option('display.width', None)\n",
    "print(combined_df)"
   ]
  },
  {
   "cell_type": "markdown",
   "metadata": {},
   "source": [
    "combined_df_filled = combined_df.fillna(\"\")\n",
    "print(combined_df_filled)"
   ]
  },
  {
   "cell_type": "code",
   "execution_count": 13,
   "metadata": {},
   "outputs": [],
   "source": [
    "merged_df.to_csv('combined_data7.csv', index=False)"
   ]
  },
  {
   "cell_type": "code",
   "execution_count": 14,
   "metadata": {},
   "outputs": [
    {
     "name": "stdout",
     "output_type": "stream",
     "text": [
      "Louisville Animal Type Counts:\n",
      "Louisville_animaltype\n",
      "DOG           4522\n",
      "CAT           2921\n",
      "RABBIT         146\n",
      "OTHER           59\n",
      "BIRD            24\n",
      "LIVESTOCK       10\n",
      "GUINEA PIG       3\n",
      "Name: count, dtype: int64\n",
      "\n",
      "Dallas Animal Type Counts:\n",
      "Dallas_Animal Type\n",
      "DOG          5586\n",
      "CAT          1528\n",
      "WILDLIFE      107\n",
      "BIRD           35\n",
      "LIVESTOCK      10\n",
      "Name: count, dtype: int64\n"
     ]
    }
   ],
   "source": [
    "louisville_animal_count = merged_df['Louisville_animaltype'].value_counts()\n",
    "dallas_animal_count = merged_df['Dallas_Animal Type'].value_counts()\n",
    "print(\"Louisville Animal Type Counts:\")\n",
    "print(louisville_animal_count)\n",
    "print(\"\\nDallas Animal Type Counts:\")\n",
    "print(dallas_animal_count)\n"
   ]
  },
  {
   "cell_type": "code",
   "execution_count": 15,
   "metadata": {},
   "outputs": [
    {
     "name": "stdout",
     "output_type": "stream",
     "text": [
      "Most common Louisville Animal Type: DOG\n",
      "Most common Dallas Animal Type: DOG\n"
     ]
    }
   ],
   "source": [
    "louisville_mode = merged_df['Louisville_animaltype'].mode()[0]\n",
    "dallas_mode = merged_df['Dallas_Animal Type'].mode()[0]\n",
    "\n",
    "print(f\"Most common Louisville Animal Type: {louisville_mode}\")\n",
    "print(f\"Most common Dallas Animal Type: {dallas_mode}\")"
   ]
  },
  {
   "cell_type": "code",
   "execution_count": 16,
   "metadata": {},
   "outputs": [
    {
     "name": "stdout",
     "output_type": "stream",
     "text": [
      "Louisville Animal Type Counts:\n",
      "Louisville_animaltype\n",
      "DOG           4522\n",
      "CAT           2921\n",
      "RABBIT         146\n",
      "OTHER           59\n",
      "BIRD            24\n",
      "LIVESTOCK       10\n",
      "GUINEA PIG       3\n",
      "Name: count, dtype: int64\n",
      "\n",
      "Dallas Animal Type Counts:\n",
      "Dallas_Animal Type\n",
      "DOG          5586\n",
      "CAT          1528\n",
      "WILDLIFE      107\n",
      "BIRD           35\n",
      "LIVESTOCK      10\n",
      "Name: count, dtype: int64\n"
     ]
    }
   ],
   "source": [
    "print(\"Louisville Animal Type Counts:\")\n",
    "print(louisville_animal_count)\n",
    "print(\"\\nDallas Animal Type Counts:\")\n",
    "print(dallas_animal_count)"
   ]
  },
  {
   "cell_type": "code",
   "execution_count": 17,
   "metadata": {},
   "outputs": [],
   "source": [
    "import matplotlib.pyplot as plt\n",
    "louisville_animal_count = merged_df['Louisville_animaltype'].value_counts()\n",
    "dallas_animal_count = merged_df['Dallas_Animal Type'].value_counts()"
   ]
  },
  {
   "cell_type": "code",
   "execution_count": 18,
   "metadata": {},
   "outputs": [
    {
     "data": {
      "image/png": "[encoded data removed]",
      "text/plain": [
       "<Figure size 1600x800 with 2 Axes>"
      ]
     },
     "metadata": {},
     "output_type": "display_data"
    }
   ],
   "source": [
    "fig, (ax1, ax2) = plt.subplots(1, 2, figsize=(16, 8))\n",
    "patches, texts = ax1.pie(\n",
    "    louisville_animal_count, \n",
    "    autopct= None, \n",
    "    startangle=90,\n",
    "    colors=plt.cm.Paired.colors,\n",
    "    labels=None\n",
    ")\n",
    "ax1.set_title('Animal Types in Louisville for 2022-2023')\n",
    "ax1.legend(patches, louisville_animal_count.index, title=\"Animal Intake/Outtake Tyoes\", loc=\"upper left\", bbox_to_anchor=(0,0))\n",
    "ax1.axis('equal') \n",
    "patches2, texts2 = ax2.pie(\n",
    "    dallas_animal_count, \n",
    "    autopct= None, \n",
    "    startangle=90,\n",
    "    colors=plt.cm.Paired.colors, \n",
    "    labels=None\n",
    ")\n",
    "ax2.set_title('Animal Types in Dallas for 2022-2023')\n",
    "ax2.legend(patches, dallas_animal_count.index, title=\"Animal Intake/Outtake Tyoes\", loc=\"upper left\", bbox_to_anchor=(0,0))\n",
    "ax1.axis('equal')\n",
    "plt.tight_layout()\n",
    "plt.show()"
   ]
  },
  {
   "cell_type": "code",
   "execution_count": 19,
   "metadata": {},
   "outputs": [
    {
     "name": "stdout",
     "output_type": "stream",
     "text": [
      "Louisville Outcome Counts:\n",
      "Louisville_outtype\n",
      "ADOPTION     2697\n",
      "FOSTER       1290\n",
      "RTO          1227\n",
      "TRANSFER     1009\n",
      "TNR           555\n",
      "EUTH          540\n",
      "DISPOSAL      173\n",
      "TRANSPORT     103\n",
      "DIED           87\n",
      "LOST            4\n",
      "Name: count, dtype: int64\n",
      "\n",
      "Dallas Outcome Counts:\n",
      "Dallas_Outcome Type\n",
      "ADOPTION             2278\n",
      "EUTHANIZED           1132\n",
      "LOST EXP             1055\n",
      "RETURNED TO OWNER     819\n",
      "TRANSFER              570\n",
      "FOSTER                554\n",
      "TREATMENT             393\n",
      "FOUND EXP             293\n",
      "DISPOSAL               54\n",
      "DIED                   52\n",
      "WILDLIFE               40\n",
      "SNR                    19\n",
      "MISSING                 7\n",
      "Name: count, dtype: int64\n"
     ]
    }
   ],
   "source": [
    "louisville_outcome_count = merged_df['Louisville_outtype'].value_counts()\n",
    "dallas_outcome_count = merged_df['Dallas_Outcome Type'].value_counts()\n",
    "print(\"Louisville Outcome Counts:\")\n",
    "print(louisville_outcome_count)\n",
    "print(\"\\nDallas Outcome Counts:\")\n",
    "print(dallas_outcome_count)"
   ]
  },
  {
   "cell_type": "code",
   "execution_count": 20,
   "metadata": {},
   "outputs": [
    {
     "name": "stdout",
     "output_type": "stream",
     "text": [
      "Louisville Outcome Percentages of Total:\n",
      "Louisville_outtype\n",
      "ADOPTION     35.094340\n",
      "FOSTER       16.785947\n",
      "RTO          15.966168\n",
      "TRANSFER     13.129473\n",
      "TNR           7.221861\n",
      "EUTH          7.026675\n",
      "DISPOSAL      2.251139\n",
      "TRANSPORT     1.340273\n",
      "DIED          1.132075\n",
      "LOST          0.052049\n",
      "Name: count, dtype: float64\n",
      "Dallas Outcome Percentages of Total:\n",
      "Dallas_Outcome Type\n",
      "ADOPTION             31.351500\n",
      "EUTHANIZED           15.579411\n",
      "LOST EXP             14.519681\n",
      "RETURNED TO OWNER    11.271676\n",
      "TRANSFER              7.844756\n",
      "FOSTER                7.624553\n",
      "TREATMENT             5.408753\n",
      "FOUND EXP             4.032480\n",
      "DISPOSAL              0.743187\n",
      "DIED                  0.715662\n",
      "WILDLIFE              0.550509\n",
      "SNR                   0.261492\n",
      "MISSING               0.096339\n",
      "Name: count, dtype: float64\n"
     ]
    }
   ],
   "source": [
    "louisville_total = louisville_outcome_count.sum()\n",
    "dallas_total = dallas_outcome_count.sum()\n",
    "louisville_percentage = (louisville_outcome_count / louisville_total) * 100\n",
    "dallas_percentage = (dallas_outcome_count / dallas_total) * 100\n",
    "print (\"Louisville Outcome Percentages of Total:\")\n",
    "print(louisville_percentage)\n",
    "print (\"Dallas Outcome Percentages of Total:\")\n",
    "print(dallas_percentage)"
   ]
  },
  {
   "cell_type": "markdown",
   "metadata": {},
   "source": [
    "This code below took a lot of research and tweaking.  It may seem repetitive, but I finally got it to work to my satisfaction!"
   ]
  },
  {
   "cell_type": "code",
   "execution_count": 21,
   "metadata": {},
   "outputs": [
    {
     "data": {
      "image/png": "[encoded data removed]",
      "text/plain": [
       "<Figure size 1200x600 with 2 Axes>"
      ]
     },
     "metadata": {},
     "output_type": "display_data"
    }
   ],
   "source": [
    "fig, axes = plt.subplots(1, 2, figsize=(12, 6), sharey=True)\n",
    "axes[0].bar(louisville_percentage.index, louisville_percentage, color='blue')\n",
    "axes[0].set_title(\"Louisville Outcome Percentages:\")\n",
    "axes[0].set_xticks(range(len(louisville_percentage.index)))  \n",
    "axes[0].set_xticklabels(louisville_percentage.index, rotation=45, ha='right')\n",
    "axes[0].set_ylim(0, 50)\n",
    "axes[0].set_ylabel(\"Percentage\")\n",
    "axes[0].tick_params(axis='y', which='both', labelleft=True)\n",
    "axes[1].bar(dallas_percentage.index, dallas_percentage, color='red')\n",
    "axes[1].set_title(\"Dallas Outcome Percentages:\")\n",
    "axes[1].set_xticks(range(len(dallas_percentage.index)))  \n",
    "axes[1].set_xticklabels(dallas_percentage.index, rotation=45, ha='right')\n",
    "axes[1].set_ylim(0, 50)\n",
    "axes[1].set_ylabel(\"Percentage\")\n",
    "axes[1].tick_params(axis='y', which='both', labelleft=True)\n",
    "\n",
    "plt.tight_layout\n",
    "plt.show()\n"
   ]
  },
  {
   "cell_type": "markdown",
   "metadata": {},
   "source": [
    "Now I want to create a visual that shows the amount of each set of data and their outcomes.  This is where I want to include the nationwide numbers just to compare"
   ]
  },
  {
   "cell_type": "code",
   "execution_count": 22,
   "metadata": {},
   "outputs": [
    {
     "name": "stdout",
     "output_type": "stream",
     "text": [
      "     Louisville_intype Louisville_insubtype Louisville_indate  \\\n",
      "0            OWNER SUR                FIELD        2022-12-14   \n",
      "1                STRAY                FIELD        2022-02-15   \n",
      "2           CONFISCATE             EVICTION        2022-01-13   \n",
      "3                STRAY                  OTC        2022-02-10   \n",
      "4                STRAY                FIELD        2022-12-16   \n",
      "...                ...                  ...               ...   \n",
      "7680             STRAY                  OTC        2022-01-24   \n",
      "7681             STRAY                  OTC        2022-01-04   \n",
      "7682             STRAY                  OTC        2022-01-04   \n",
      "7683             STRAY                  OTC        2022-01-24   \n",
      "7684             STRAY                  OTC        2022-01-04   \n",
      "\n",
      "     Louisville_surreason Louisville_outtype Louisville_outsubtype  \\\n",
      "0                   STRAY               EUTH             REQUESTED   \n",
      "1                   STRAY           ADOPTION               WALK IN   \n",
      "2                 UNKNOWN                RTO              IN FIELD   \n",
      "3                   STRAY                RTO             IN KENNEL   \n",
      "4                   STRAY           ADOPTION               WALK IN   \n",
      "...                   ...                ...                   ...   \n",
      "7680                STRAY                TNR             CARETAKER   \n",
      "7681                STRAY                TNR             CARETAKER   \n",
      "7682                STRAY                TNR             CARETAKER   \n",
      "7683                STRAY                TNR             CARETAKER   \n",
      "7684                STRAY                TNR             CARETAKER   \n",
      "\n",
      "     Louisville_outdate Louisville_animaltype Louisville_bites  \\\n",
      "0            2022-12-14                   DOG                N   \n",
      "1            2022-03-04                   DOG                N   \n",
      "2            2022-01-13                   DOG                N   \n",
      "3            2022-02-12                   DOG                N   \n",
      "4            2023-01-15                   DOG                N   \n",
      "...                 ...                   ...              ...   \n",
      "7680         2022-01-26                   CAT                N   \n",
      "7681         2022-01-06                   CAT                N   \n",
      "7682         2022-01-06                   CAT                N   \n",
      "7683         2022-01-26                   CAT                N   \n",
      "7684         2022-01-06                   CAT                N   \n",
      "\n",
      "     Louisville_petsize Dallas_Animal Type Dallas_Animal Breed  \\\n",
      "0                   MED                DOG       SCHNAUZER MIN   \n",
      "1                   MED                DOG               HUSKY   \n",
      "2                   MED                DOG        CHIHUAHUA SH   \n",
      "3                 LARGE                DOG         MIXED BREED   \n",
      "4                 LARGE                DOG        CHIHUAHUA SH   \n",
      "...                 ...                ...                 ...   \n",
      "7680                MED                NaN                 NaN   \n",
      "7681                MED                NaN                 NaN   \n",
      "7682                MED                NaN                 NaN   \n",
      "7683                MED                NaN                 NaN   \n",
      "7684                MED                NaN                 NaN   \n",
      "\n",
      "     Dallas_Intake Type Dallas_Intake Subtype Dallas_Intake Date  \\\n",
      "0              TRANSFER                 STRAY         2022-11-08   \n",
      "1                 STRAY              AT LARGE         2022-12-16   \n",
      "2       OWNER SURRENDER                URGENT         2022-10-19   \n",
      "3       OWNER SURRENDER               APPOINT         2022-10-31   \n",
      "4       OWNER SURRENDER               WALK IN         2022-11-14   \n",
      "...                 ...                   ...                ...   \n",
      "7680                NaN                   NaN                NaT   \n",
      "7681                NaN                   NaN                NaT   \n",
      "7682                NaN                   NaN                NaT   \n",
      "7683                NaN                   NaN                NaT   \n",
      "7684                NaN                   NaN                NaT   \n",
      "\n",
      "     Dallas_Outcome Type Dallas_Outcome Subtype Dallas_Month Dallas_Year  \n",
      "0               TRANSFER                GENERAL       FY2024      FY2023  \n",
      "1             EUTHANIZED                MEDICAL       FY2024      FY2023  \n",
      "2             EUTHANIZED                 HUMANE       FY2024      FY2023  \n",
      "3               ADOPTION             WESTMORELD       FY2024      FY2023  \n",
      "4             EUTHANIZED                 HUMANE       FY2024      FY2023  \n",
      "...                  ...                    ...          ...         ...  \n",
      "7680                 NaN                    NaN          NaN         NaN  \n",
      "7681                 NaN                    NaN          NaN         NaN  \n",
      "7682                 NaN                    NaN          NaN         NaN  \n",
      "7683                 NaN                    NaN          NaN         NaN  \n",
      "7684                 NaN                    NaN          NaN         NaN  \n",
      "\n",
      "[7685 rows x 19 columns]\n"
     ]
    }
   ],
   "source": [
    "print(merged_df)"
   ]
  },
  {
   "cell_type": "code",
   "execution_count": 23,
   "metadata": {},
   "outputs": [
    {
     "name": "stdout",
     "output_type": "stream",
     "text": [
      "Total of Louisville intakes in 2022:   7685\n",
      "Total of Dallas intakes in 2022:   7266\n",
      "  State  Combined_National_Intake  Combined_National_Outcome\n",
      "0    KY                     69584                      66120\n",
      "1    TX                    419876                     412918\n"
     ]
    }
   ],
   "source": [
    "count = merged_df['Louisville_intype'].count()\n",
    "print(\"Total of Louisville intakes in 2022:  \", count)\n",
    "\n",
    "merged_df['Dallas_Intake Date'] = pd.to_datetime(merged_df['Dallas_Intake Date'], errors='coerce')\n",
    "count2 = merged_df['Dallas_Intake Type'].count()\n",
    "print(\"Total of Dallas intakes in 2022:  \", count2)\n",
    "\n",
    "print(df2_grouped)"
   ]
  },
  {
   "cell_type": "markdown",
   "metadata": {},
   "source": [
    "Now I want to compare the amount of intakes to each state (Louisville to KY, Dallas to TX)"
   ]
  },
  {
   "cell_type": "code",
   "execution_count": 24,
   "metadata": {},
   "outputs": [
    {
     "data": {
      "image/png": "[encoded data removed]",
      "text/plain": [
       "<Figure size 1000x600 with 1 Axes>"
      ]
     },
     "metadata": {},
     "output_type": "display_data"
    }
   ],
   "source": [
    "state_intakes = df2_grouped.set_index('State')['Combined_National_Intake']\n",
    "\n",
    "louisville_intake = merged_df['Louisville_intype'].count()\n",
    "dallas_intake = merged_df['Dallas_Intake Type'].count()\n",
    "ky_intake = state_intakes.get('KY', 0)\n",
    "tx_intake = state_intakes.get('TX', 0)\n",
    "\n",
    "national_intake = df2_grouped['Combined_National_Intake'].sum()\n",
    "\n",
    "labels = ['Louisville', 'Kentucky', 'Dallas', 'Texas', 'KY/TX combined']\n",
    "values = [louisville_intake, ky_intake, dallas_intake, tx_intake, national_intake]\n",
    "\n",
    "plt.figure(figsize=(10, 6))\n",
    "sns.barplot(x=labels, y=values, hue=labels, palette='pastel', legend=False)\n",
    "\n",
    "plt.title(\"2022 Intake Counts: Louisville vs. Kentucky,  Dallas vs. Texas, and Combined KY/TX\")\n",
    "plt.xlabel(\"Various locations and their comparisons to state and national numbers\")\n",
    "plt.ylabel(\"Total Intakes\")\n",
    "plt.grid(axis='y', linestyle='--', alpha=0.7)\n",
    "\n",
    "for i, v in enumerate(values):\n",
    "    plt.text(i, v + 100, str(v), ha='center', fontsize=10)\n",
    "\n",
    "plt.show()\n"
   ]
  }
 ],
 "metadata": {
  "kernelspec": {
   "display_name": "Python 3",
   "language": "python",
   "name": "python3"
  },
  "language_info": {
   "codemirror_mode": {
    "name": "ipython",
    "version": 3
   },
   "file_extension": ".py",
   "mimetype": "text/x-python",
   "name": "python",
   "nbconvert_exporter": "python",
   "pygments_lexer": "ipython3",
   "version": "3.11.9"
  }
 },
 "nbformat": 4,
 "nbformat_minor": 2
}
