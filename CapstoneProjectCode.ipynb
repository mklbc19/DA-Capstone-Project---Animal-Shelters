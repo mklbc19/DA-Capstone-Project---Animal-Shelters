{
 "cells": [
  {
   "cell_type": "markdown",
   "metadata": {},
   "source": [
    "This is where I am going to write out my code for this project."
   ]
  },
  {
   "cell_type": "markdown",
   "metadata": {},
   "source": [
    "Louisville Animal Shelter Data: https://data.louisvilleky.gov/datasets/louisville-metro-ky-animal-service-intake-and-outcome/about\n",
    "Nationwide Animal Shelter Data: https://www.shelteranimalscount.org/data-request-free-download/"
   ]
  },
  {
   "cell_type": "code",
   "execution_count": 2,
   "metadata": {},
   "outputs": [
    {
     "name": "stdout",
     "output_type": "stream",
     "text": [
      "Requirement already satisfied: pandas in c:\\users\\melis\\appdata\\local\\packages\\pythonsoftwarefoundation.python.3.11_qbz5n2kfra8p0\\localcache\\local-packages\\python311\\site-packages (2.2.3)\n",
      "Requirement already satisfied: numpy>=1.23.2 in c:\\users\\melis\\appdata\\local\\packages\\pythonsoftwarefoundation.python.3.11_qbz5n2kfra8p0\\localcache\\local-packages\\python311\\site-packages (from pandas) (2.2.3)\n",
      "Requirement already satisfied: python-dateutil>=2.8.2 in c:\\users\\melis\\appdata\\local\\packages\\pythonsoftwarefoundation.python.3.11_qbz5n2kfra8p0\\localcache\\local-packages\\python311\\site-packages (from pandas) (2.9.0.post0)\n",
      "Requirement already satisfied: pytz>=2020.1 in c:\\users\\melis\\appdata\\local\\packages\\pythonsoftwarefoundation.python.3.11_qbz5n2kfra8p0\\localcache\\local-packages\\python311\\site-packages (from pandas) (2025.1)\n",
      "Requirement already satisfied: tzdata>=2022.7 in c:\\users\\melis\\appdata\\local\\packages\\pythonsoftwarefoundation.python.3.11_qbz5n2kfra8p0\\localcache\\local-packages\\python311\\site-packages (from pandas) (2025.1)\n",
      "Requirement already satisfied: six>=1.5 in c:\\users\\melis\\appdata\\local\\packages\\pythonsoftwarefoundation.python.3.11_qbz5n2kfra8p0\\localcache\\local-packages\\python311\\site-packages (from python-dateutil>=2.8.2->pandas) (1.16.0)\n",
      "Note: you may need to restart the kernel to use updated packages.\n"
     ]
    },
    {
     "name": "stderr",
     "output_type": "stream",
     "text": [
      "\n",
      "[notice] A new release of pip is available: 24.0 -> 25.0.1\n",
      "[notice] To update, run: C:\\Users\\Melis\\AppData\\Local\\Microsoft\\WindowsApps\\PythonSoftwareFoundation.Python.3.11_qbz5n2kfra8p0\\python.exe -m pip install --upgrade pip\n"
     ]
    }
   ],
   "source": [
    "pip install pandas"
   ]
  },
  {
   "cell_type": "code",
   "execution_count": 3,
   "metadata": {},
   "outputs": [
    {
     "name": "stdout",
     "output_type": "stream",
     "text": [
      "Requirement already satisfied: pandas in c:\\users\\melis\\appdata\\local\\packages\\pythonsoftwarefoundation.python.3.11_qbz5n2kfra8p0\\localcache\\local-packages\\python311\\site-packages (2.2.3)\n",
      "Requirement already satisfied: matplotlib in c:\\users\\melis\\appdata\\local\\packages\\pythonsoftwarefoundation.python.3.11_qbz5n2kfra8p0\\localcache\\local-packages\\python311\\site-packages (3.10.1)\n",
      "Requirement already satisfied: numpy>=1.23.2 in c:\\users\\melis\\appdata\\local\\packages\\pythonsoftwarefoundation.python.3.11_qbz5n2kfra8p0\\localcache\\local-packages\\python311\\site-packages (from pandas) (2.2.3)\n",
      "Requirement already satisfied: python-dateutil>=2.8.2 in c:\\users\\melis\\appdata\\local\\packages\\pythonsoftwarefoundation.python.3.11_qbz5n2kfra8p0\\localcache\\local-packages\\python311\\site-packages (from pandas) (2.9.0.post0)\n",
      "Requirement already satisfied: pytz>=2020.1 in c:\\users\\melis\\appdata\\local\\packages\\pythonsoftwarefoundation.python.3.11_qbz5n2kfra8p0\\localcache\\local-packages\\python311\\site-packages (from pandas) (2025.1)\n",
      "Requirement already satisfied: tzdata>=2022.7 in c:\\users\\melis\\appdata\\local\\packages\\pythonsoftwarefoundation.python.3.11_qbz5n2kfra8p0\\localcache\\local-packages\\python311\\site-packages (from pandas) (2025.1)\n",
      "Requirement already satisfied: contourpy>=1.0.1 in c:\\users\\melis\\appdata\\local\\packages\\pythonsoftwarefoundation.python.3.11_qbz5n2kfra8p0\\localcache\\local-packages\\python311\\site-packages (from matplotlib) (1.3.1)\n",
      "Requirement already satisfied: cycler>=0.10 in c:\\users\\melis\\appdata\\local\\packages\\pythonsoftwarefoundation.python.3.11_qbz5n2kfra8p0\\localcache\\local-packages\\python311\\site-packages (from matplotlib) (0.12.1)\n",
      "Requirement already satisfied: fonttools>=4.22.0 in c:\\users\\melis\\appdata\\local\\packages\\pythonsoftwarefoundation.python.3.11_qbz5n2kfra8p0\\localcache\\local-packages\\python311\\site-packages (from matplotlib) (4.56.0)\n",
      "Requirement already satisfied: kiwisolver>=1.3.1 in c:\\users\\melis\\appdata\\local\\packages\\pythonsoftwarefoundation.python.3.11_qbz5n2kfra8p0\\localcache\\local-packages\\python311\\site-packages (from matplotlib) (1.4.8)\n",
      "Requirement already satisfied: packaging>=20.0 in c:\\users\\melis\\appdata\\local\\packages\\pythonsoftwarefoundation.python.3.11_qbz5n2kfra8p0\\localcache\\local-packages\\python311\\site-packages (from matplotlib) (24.1)\n",
      "Requirement already satisfied: pillow>=8 in c:\\users\\melis\\appdata\\local\\packages\\pythonsoftwarefoundation.python.3.11_qbz5n2kfra8p0\\localcache\\local-packages\\python311\\site-packages (from matplotlib) (11.1.0)\n",
      "Requirement already satisfied: pyparsing>=2.3.1 in c:\\users\\melis\\appdata\\local\\packages\\pythonsoftwarefoundation.python.3.11_qbz5n2kfra8p0\\localcache\\local-packages\\python311\\site-packages (from matplotlib) (3.2.1)\n",
      "Requirement already satisfied: six>=1.5 in c:\\users\\melis\\appdata\\local\\packages\\pythonsoftwarefoundation.python.3.11_qbz5n2kfra8p0\\localcache\\local-packages\\python311\\site-packages (from python-dateutil>=2.8.2->pandas) (1.16.0)\n",
      "Note: you may need to restart the kernel to use updated packages.\n"
     ]
    },
    {
     "name": "stderr",
     "output_type": "stream",
     "text": [
      "\n",
      "[notice] A new release of pip is available: 24.0 -> 25.0.1\n",
      "[notice] To update, run: C:\\Users\\Melis\\AppData\\Local\\Microsoft\\WindowsApps\\PythonSoftwareFoundation.Python.3.11_qbz5n2kfra8p0\\python.exe -m pip install --upgrade pip\n"
     ]
    }
   ],
   "source": [
    "pip install pandas matplotlib"
   ]
  },
  {
   "cell_type": "code",
   "execution_count": 4,
   "metadata": {},
   "outputs": [
    {
     "name": "stdout",
     "output_type": "stream",
     "text": [
      "Requirement already satisfied: pandas in c:\\users\\melis\\appdata\\local\\packages\\pythonsoftwarefoundation.python.3.11_qbz5n2kfra8p0\\localcache\\local-packages\\python311\\site-packages (2.2.3)\n",
      "Requirement already satisfied: openpyxl in c:\\users\\melis\\appdata\\local\\packages\\pythonsoftwarefoundation.python.3.11_qbz5n2kfra8p0\\localcache\\local-packages\\python311\\site-packages (3.1.5)\n",
      "Requirement already satisfied: numpy>=1.23.2 in c:\\users\\melis\\appdata\\local\\packages\\pythonsoftwarefoundation.python.3.11_qbz5n2kfra8p0\\localcache\\local-packages\\python311\\site-packages (from pandas) (2.2.3)\n",
      "Requirement already satisfied: python-dateutil>=2.8.2 in c:\\users\\melis\\appdata\\local\\packages\\pythonsoftwarefoundation.python.3.11_qbz5n2kfra8p0\\localcache\\local-packages\\python311\\site-packages (from pandas) (2.9.0.post0)\n",
      "Requirement already satisfied: pytz>=2020.1 in c:\\users\\melis\\appdata\\local\\packages\\pythonsoftwarefoundation.python.3.11_qbz5n2kfra8p0\\localcache\\local-packages\\python311\\site-packages (from pandas) (2025.1)\n",
      "Requirement already satisfied: tzdata>=2022.7 in c:\\users\\melis\\appdata\\local\\packages\\pythonsoftwarefoundation.python.3.11_qbz5n2kfra8p0\\localcache\\local-packages\\python311\\site-packages (from pandas) (2025.1)\n",
      "Requirement already satisfied: et-xmlfile in c:\\users\\melis\\appdata\\local\\packages\\pythonsoftwarefoundation.python.3.11_qbz5n2kfra8p0\\localcache\\local-packages\\python311\\site-packages (from openpyxl) (2.0.0)\n",
      "Requirement already satisfied: six>=1.5 in c:\\users\\melis\\appdata\\local\\packages\\pythonsoftwarefoundation.python.3.11_qbz5n2kfra8p0\\localcache\\local-packages\\python311\\site-packages (from python-dateutil>=2.8.2->pandas) (1.16.0)\n",
      "Note: you may need to restart the kernel to use updated packages.\n"
     ]
    },
    {
     "name": "stderr",
     "output_type": "stream",
     "text": [
      "\n",
      "[notice] A new release of pip is available: 24.0 -> 25.0.1\n",
      "[notice] To update, run: C:\\Users\\Melis\\AppData\\Local\\Microsoft\\WindowsApps\\PythonSoftwareFoundation.Python.3.11_qbz5n2kfra8p0\\python.exe -m pip install --upgrade pip\n"
     ]
    }
   ],
   "source": [
    "pip install pandas openpyxl"
   ]
  },
  {
   "cell_type": "code",
   "execution_count": 5,
   "metadata": {},
   "outputs": [
    {
     "name": "stdout",
     "output_type": "stream",
     "text": [
      "    kennel animalid jurisdiction     intype insubtype               indate  \\\n",
      "0     ID08  A673162        40208      STRAY     FIELD  2021-02-21 00:00:00   \n",
      "1  FREEZER  A617968        40215  OWNER SUR     FIELD  2022-12-14 00:00:00   \n",
      "2      N40  A688268        40213  OWNER SUR       OTC  2021-01-19 00:00:00   \n",
      "3     DW19  A688176        40258     FOSTER    RETURN  2021-01-22 00:00:00   \n",
      "4   FOSTER  A688325        40218      STRAY       OTC  2021-01-21 00:00:00   \n",
      "\n",
      "    surreason   outtype  outsubtype              outdate animaltype sex bites  \\\n",
      "0       STRAY       RTO   IN KENNEL  2021-02-21 00:00:00        DOG   N     N   \n",
      "1       STRAY      EUTH   REQUESTED  2022-12-14 00:00:00        DOG   F     N   \n",
      "2   OTHER PET  ADOPTION     WALK IN  2021-01-22 00:00:00        CAT   S     N   \n",
      "3  OWNER DIED  TRANSFER  RESCUE GRP  2021-01-23 00:00:00        DOG   S     N   \n",
      "4       STRAY    FOSTER         NaN  2021-01-26 00:00:00        DOG   S     N   \n",
      "\n",
      "  petsize          color            breed sourcezipcode  ObjectId  \n",
      "0   LARGE          WHITE   SIBERIAN HUSKY         40218         1  \n",
      "1     MED  WHITE / BLACK    LABRADOR RETR         40218         2  \n",
      "2   KITTN         CALICO      DOMESTIC SH         40213         3  \n",
      "3   SMALL            TAN     CHIHUAHUA SH         40216         4  \n",
      "4     TOY            TAN  NORWICH TERRIER         40214         5  \n"
     ]
    }
   ],
   "source": [
    "import pandas as pd\n",
    "\n",
    "df = pd.read_csv('Animal_IO_Data.csv')\n",
    "\n",
    "print(df.head())"
   ]
  },
  {
   "cell_type": "code",
   "execution_count": 6,
   "metadata": {},
   "outputs": [
    {
     "name": "stdout",
     "output_type": "stream",
     "text": [
      "  State  Year  Organizations  Intake - Relinquished By Owner Total-Feline  \\\n",
      "0    AK  2021              5                                          886   \n",
      "1    AK  2022              5                                         1128   \n",
      "2    AK  2023              5                                          911   \n",
      "3    AL  2021             17                                         1548   \n",
      "4    AL  2022             17                                         1419   \n",
      "\n",
      "   Intake - Stray At Large Total-Feline  Intake - Transferred In Total-Feline  \\\n",
      "0                                  1620                                    85   \n",
      "1                                  1878                                    51   \n",
      "2                                  1814                                    45   \n",
      "3                                  3414                                   707   \n",
      "4                                  3400                                   816   \n",
      "\n",
      "   Intake - Owner Intended Euthanasia Total-Feline  \\\n",
      "0                                               37   \n",
      "1                                               42   \n",
      "2                                               42   \n",
      "3                                                0   \n",
      "4                                                3   \n",
      "\n",
      "   Intakes - Other Intakes Total-Feline  Live Outcome - Adoption Total-Feline  \\\n",
      "0                                   133                                  2217   \n",
      "1                                   146                                  2158   \n",
      "2                                   122                                  2148   \n",
      "3                                   644                                  3816   \n",
      "4                                   503                                  4307   \n",
      "\n",
      "   Live Outcome - Returned To Owner Total-Feline  ...  \\\n",
      "0                                            365  ...   \n",
      "1                                            310  ...   \n",
      "2                                            223  ...   \n",
      "3                                             78  ...   \n",
      "4                                             65  ...   \n",
      "\n",
      "   Intakes - Other Intakes Total-Canine  Live Outcome - Adoption Total-Canine  \\\n",
      "0                                   144                                   763   \n",
      "1                                   189                                  1106   \n",
      "2                                   210                                   993   \n",
      "3                                  1953                                  6577   \n",
      "4                                  2277                                  6681   \n",
      "\n",
      "   Live Outcome - Returned To Owner Total-Canine  \\\n",
      "0                                            948   \n",
      "1                                           1006   \n",
      "2                                            880   \n",
      "3                                           2101   \n",
      "4                                           2012   \n",
      "\n",
      "   Live Outcome - Returned To Field Total-Canine  \\\n",
      "0                                              0   \n",
      "1                                              0   \n",
      "2                                              0   \n",
      "3                                              1   \n",
      "4                                              0   \n",
      "\n",
      "   Live Outcome - Transferred Out Total-Canine  \\\n",
      "0                                            3   \n",
      "1                                            1   \n",
      "2                                            8   \n",
      "3                                         3592   \n",
      "4                                         3190   \n",
      "\n",
      "   Live outcome - Other Live Outcome Total-Canine  \\\n",
      "0                                               6   \n",
      "1                                               3   \n",
      "2                                               4   \n",
      "3                                              90   \n",
      "4                                             808   \n",
      "\n",
      "   Other Outcome - Died In Care Total-Canine  \\\n",
      "0                                          7   \n",
      "1                                          4   \n",
      "2                                         12   \n",
      "3                                        180   \n",
      "4                                        193   \n",
      "\n",
      "   Other Outcome - Lost In Care Total-Canine  \\\n",
      "0                                          0   \n",
      "1                                          1   \n",
      "2                                          1   \n",
      "3                                          7   \n",
      "4                                         14   \n",
      "\n",
      "   Other Outcome - Owner Intended Euthanasia Total-Canine  \\\n",
      "0                                                 80        \n",
      "1                                                112        \n",
      "2                                                149        \n",
      "3                                                  7        \n",
      "4                                                  0        \n",
      "\n",
      "   Other Outcome - Shelter Euthanasia Total-Canine  \n",
      "0                                               82  \n",
      "1                                              216  \n",
      "2                                              257  \n",
      "3                                             2994  \n",
      "4                                             3262  \n",
      "\n",
      "[5 rows x 31 columns]\n"
     ]
    }
   ],
   "source": [
    "dff = pd.read_excel('3 year 21-22-23 SAC Agg.xlsx')\n",
    "print(dff.head())"
   ]
  },
  {
   "cell_type": "code",
   "execution_count": null,
   "metadata": {},
   "outputs": [],
   "source": []
  }
 ],
 "metadata": {
  "kernelspec": {
   "display_name": "Python 3",
   "language": "python",
   "name": "python3"
  },
  "language_info": {
   "codemirror_mode": {
    "name": "ipython",
    "version": 3
   },
   "file_extension": ".py",
   "mimetype": "text/x-python",
   "name": "python",
   "nbconvert_exporter": "python",
   "pygments_lexer": "ipython3",
   "version": "3.11.9"
  }
 },
 "nbformat": 4,
 "nbformat_minor": 2
}
