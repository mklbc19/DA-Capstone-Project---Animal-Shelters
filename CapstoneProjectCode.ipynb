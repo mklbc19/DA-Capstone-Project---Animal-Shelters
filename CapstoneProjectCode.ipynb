{
 "cells": [
  {
   "cell_type": "markdown",
   "metadata": {},
   "source": [
    "This is where I am going to write out my code for this project."
   ]
  },
  {
   "cell_type": "markdown",
   "metadata": {},
   "source": [
    "Louisville Animal Shelter Data: https://data.louisvilleky.gov/datasets/louisville-metro-ky-animal-service-intake-and-outcome/about\n",
    "Nationwide Animal Shelter Data: https://www.shelteranimalscount.org/data-request-free-download/\n",
    "Dallas Animal Shelter Data: https://www.dallasopendata.com/Services/Dallas-Animal-Shelter-Data-Fiscal-Year-2022-2023/f77p-sgrc/about_data\n"
   ]
  },
  {
   "cell_type": "code",
   "execution_count": null,
   "metadata": {},
   "outputs": [],
   "source": [
    "import matplotlib.pyplot as plt\n",
    "!pip install seaborn\n",
    "import seaborn as sns\n",
    "import pandas as pd\n",
    "import numpy as np"
   ]
  },
  {
   "cell_type": "code",
   "execution_count": null,
   "metadata": {},
   "outputs": [],
   "source": [
    "pip install pandas openpyxl"
   ]
  },
  {
   "cell_type": "code",
   "execution_count": null,
   "metadata": {},
   "outputs": [],
   "source": [
    "df = pd.read_csv('Animal_IO_Data.csv')\n",
    "df['indate'] = pd.to_datetime(df['indate'], errors='coerce')\n",
    "df = df[df['indate'].dt.year == 2022]\n",
    "\n",
    "print(df)"
   ]
  },
  {
   "cell_type": "markdown",
   "metadata": {},
   "source": [
    "Want to import another city's data, to have a closer comparison.  I was seeing an erorr with the data before importing, so I did research and found the \"usecols\" function."
   ]
  },
  {
   "cell_type": "code",
   "execution_count": null,
   "metadata": {},
   "outputs": [],
   "source": [
    "columns_to_include = ['Animal Type', 'Animal Breed', 'Intake Type', 'Intake Subtype', 'Intake Date', 'Outcome Type', 'Outcome Subtype', 'Month', 'Year']\n",
    "df3 = pd.read_csv('Dallas_Animal_Shelter_Data_Fiscal_Year_2022_-_2023.csv', usecols=columns_to_include)\n",
    "df3['Intake Date'] = pd.to_datetime(df3['Intake Date'], errors='coerce')\n",
    "df3 = df3[df3['Intake Date'].dt.year == 2022]\n",
    "print(df3)"
   ]
  },
  {
   "cell_type": "code",
   "execution_count": null,
   "metadata": {},
   "outputs": [],
   "source": [
    "df2 = pd.read_excel('3 year 21-22-23 SAC Agg.xlsx')\n",
    "df2.drop(columns=['Organizations'], inplace=True)\n",
    "for col in df2.columns:\n",
    "    print(col)\n",
    "df2.dtypes\n",
    "df2 = df2[df2['Year'] == 2022]\n",
    "df2.reset_index(drop=True, inplace=True)\n",
    "df2 = df2[df2['State'].isin(['KY', 'TX'])]  "
   ]
  },
  {
   "cell_type": "code",
   "execution_count": null,
   "metadata": {},
   "outputs": [],
   "source": [
    "print(df2)"
   ]
  },
  {
   "cell_type": "code",
   "execution_count": null,
   "metadata": {},
   "outputs": [],
   "source": [
    "pattern_of_intake = 'Intake'\n",
    "pattern_of_outcome = 'Outcome'\n",
    "intake_columns = [col for col in df2.columns if pattern_of_intake in col]\n",
    "outcome_columns = [col for col in df2.columns if pattern_of_outcome in col]\n",
    "df2['Total_Intakes'] = df2[intake_columns].sum(axis=1)\n",
    "df2['Total_Outcomes'] = df2[outcome_columns].sum(axis=1)\n",
    "print(df2[['State', 'Total_Intakes', 'Total_Outcomes']])"
   ]
  },
  {
   "cell_type": "code",
   "execution_count": null,
   "metadata": {},
   "outputs": [],
   "source": [
    "df.drop(columns=['kennel', 'animalid', 'jurisdiction', 'sex', 'color', 'breed', 'sourcezipcode', 'ObjectId'], inplace=True)\n",
    "df = df.dropna()\n",
    "print (df)"
   ]
  },
  {
   "cell_type": "code",
   "execution_count": null,
   "metadata": {},
   "outputs": [],
   "source": [
    "df['indate'] = pd.to_datetime(df['indate'])\n",
    "df_remove =df[~df['indate'].dt.year.isin([2024, 2025])]\n",
    "df['outdate'] = pd.to_datetime(df['outdate'])\n",
    "df_remove =df[~df['outdate'].dt.year.isin([2024, 2025])]\n",
    "print(df)"
   ]
  },
  {
   "cell_type": "markdown",
   "metadata": {},
   "source": [
    "I am going to combine all the intake columns into one, and do the same for the outtake columns.  I did use AI to help with this.\n"
   ]
  },
  {
   "cell_type": "code",
   "execution_count": null,
   "metadata": {},
   "outputs": [],
   "source": [
    "intake_columns = [col for col in df2.columns if 'Intake' in col]\n",
    "df2['Combined_National_Intake'] = df2[intake_columns].sum(axis=1)\n",
    "outtake_columns = [col for col in df2.columns if 'Outcome' in col]\n",
    "df2['Combined_National_Outcome'] = df2[outtake_columns].sum(axis=1)\n",
    "print(df2)"
   ]
  },
  {
   "cell_type": "code",
   "execution_count": null,
   "metadata": {},
   "outputs": [],
   "source": [
    "df2_grouping = df2.groupby('State' , as_index=False)['Combined_National_Intake'].sum()\n",
    "df2_grouping2 = df2.groupby('State' , as_index=False)['Combined_National_Outcome'].sum()\n",
    "df2_grouped = pd.merge(df2_grouping, df2_grouping2, on='State')\n",
    "print(\"Grouped by state and sum total:\")\n",
    "print(df2_grouped)"
   ]
  },
  {
   "cell_type": "code",
   "execution_count": null,
   "metadata": {},
   "outputs": [],
   "source": [
    "df = df.reset_index(drop=True)\n",
    "df3 = df3.reset_index(drop=True)\n",
    "merged_df = pd.concat([df, df3], axis=1)\n",
    "\n",
    "df.columns = ['Louisville_' + col for col in df.columns]\n",
    "df3.columns = ['Dallas_' + col for col in df3.columns]\n",
    "\n",
    "merged_df = pd.concat([df, df3], axis=1)\n",
    "\n",
    "print(merged_df)"
   ]
  },
  {
   "cell_type": "markdown",
   "metadata": {},
   "source": [
    "combined_df = pd.concat([df, df3], axis=0, ignore_index=True)\n",
    "pd.set_option('display.max_rows', None)\n",
    "pd.set_option('display.max_columns', None)\n",
    "pd.set_option('display.width', None)\n",
    "print(combined_df)"
   ]
  },
  {
   "cell_type": "markdown",
   "metadata": {},
   "source": [
    "combined_df_filled = combined_df.fillna(\"\")\n",
    "print(combined_df_filled)"
   ]
  },
  {
   "cell_type": "code",
   "execution_count": null,
   "metadata": {},
   "outputs": [],
   "source": [
    "merged_df.to_csv('combined_data7.csv', index=False)"
   ]
  },
  {
   "cell_type": "code",
   "execution_count": null,
   "metadata": {},
   "outputs": [],
   "source": [
    "louisville_animal_count = merged_df['Louisville_animaltype'].value_counts()\n",
    "dallas_animal_count = merged_df['Dallas_Animal Type'].value_counts()\n",
    "print(\"Louisville Animal Type Counts:\")\n",
    "print(louisville_animal_count)\n",
    "print(\"\\nDallas Animal Type Counts:\")\n",
    "print(dallas_animal_count)\n"
   ]
  },
  {
   "cell_type": "code",
   "execution_count": null,
   "metadata": {},
   "outputs": [],
   "source": [
    "louisville_mode = merged_df['Louisville_animaltype'].mode()[0]\n",
    "dallas_mode = merged_df['Dallas_Animal Type'].mode()[0]\n",
    "\n",
    "print(f\"Most common Louisville Animal Type: {louisville_mode}\")\n",
    "print(f\"Most common Dallas Animal Type: {dallas_mode}\")"
   ]
  },
  {
   "cell_type": "code",
   "execution_count": null,
   "metadata": {},
   "outputs": [],
   "source": [
    "print(\"Louisville Animal Type Counts:\")\n",
    "print(louisville_animal_count)\n",
    "print(\"\\nDallas Animal Type Counts:\")\n",
    "print(dallas_animal_count)"
   ]
  },
  {
   "cell_type": "code",
   "execution_count": null,
   "metadata": {},
   "outputs": [],
   "source": [
    "import matplotlib.pyplot as plt\n",
    "louisville_animal_count = merged_df['Louisville_animaltype'].value_counts()\n",
    "dallas_animal_count = merged_df['Dallas_Animal Type'].value_counts()"
   ]
  },
  {
   "cell_type": "code",
   "execution_count": null,
   "metadata": {},
   "outputs": [],
   "source": [
    "fig, (ax1, ax2) = plt.subplots(1, 2, figsize=(16, 8))\n",
    "patches, texts = ax1.pie(\n",
    "    louisville_animal_count, \n",
    "    autopct= None, \n",
    "    startangle=90,\n",
    "    colors=plt.cm.Paired.colors,\n",
    "    labels=None\n",
    ")\n",
    "ax1.set_title('Animal Types in Louisville for 2022-2023')\n",
    "ax1.legend(patches, louisville_animal_count.index, title=\"Animal Intake/Outtake Tyoes\", loc=\"upper left\", bbox_to_anchor=(0,0))\n",
    "ax1.axis('equal') \n",
    "patches2, texts2 = ax2.pie(\n",
    "    dallas_animal_count, \n",
    "    autopct= None, \n",
    "    startangle=90,\n",
    "    colors=plt.cm.Paired.colors, \n",
    "    labels=None\n",
    ")\n",
    "ax2.set_title('Animal Types in Dallas for 2022-2023')\n",
    "ax2.legend(patches, dallas_animal_count.index, title=\"Animal Intake/Outtake Tyoes\", loc=\"upper left\", bbox_to_anchor=(0,0))\n",
    "ax1.axis('equal')\n",
    "plt.tight_layout()\n",
    "plt.show()"
   ]
  },
  {
   "cell_type": "code",
   "execution_count": null,
   "metadata": {},
   "outputs": [],
   "source": [
    "louisville_outcome_count = merged_df['Louisville_outtype'].value_counts()\n",
    "dallas_outcome_count = merged_df['Dallas_Outcome Type'].value_counts()\n",
    "print(\"Louisville Outcome Counts:\")\n",
    "print(louisville_outcome_count)\n",
    "print(\"\\nDallas Outcome Counts:\")\n",
    "print(dallas_outcome_count)"
   ]
  },
  {
   "cell_type": "code",
   "execution_count": null,
   "metadata": {},
   "outputs": [],
   "source": [
    "louisville_total = louisville_outcome_count.sum()\n",
    "dallas_total = dallas_outcome_count.sum()\n",
    "louisville_percentage = (louisville_outcome_count / louisville_total) * 100\n",
    "dallas_percentage = (dallas_outcome_count / dallas_total) * 100\n",
    "print (\"Louisville Outcome Percentages of Total:\")\n",
    "print(louisville_percentage)\n",
    "print (\"Dallas Outcome Percentages of Total:\")\n",
    "print(dallas_percentage)"
   ]
  },
  {
   "cell_type": "markdown",
   "metadata": {},
   "source": [
    "This code below took a lot of research and tweaking.  It may seem repetitive, but I finally got it to work to my satisfaction!"
   ]
  },
  {
   "cell_type": "code",
   "execution_count": null,
   "metadata": {},
   "outputs": [],
   "source": [
    "fig, axes = plt.subplots(1, 2, figsize=(12, 6), sharey=True)\n",
    "axes[0].bar(louisville_percentage.index, louisville_percentage, color='blue')\n",
    "axes[0].set_title(\"Louisville Outcome Percentages:\")\n",
    "axes[0].set_xticks(range(len(louisville_percentage.index)))  \n",
    "axes[0].set_xticklabels(louisville_percentage.index, rotation=45, ha='right')\n",
    "axes[0].set_ylim(0, 50)\n",
    "axes[0].set_ylabel(\"Percentage\")\n",
    "axes[0].tick_params(axis='y', which='both', labelleft=True)\n",
    "axes[1].bar(dallas_percentage.index, dallas_percentage, color='red')\n",
    "axes[1].set_title(\"Dallas Outcome Percentages:\")\n",
    "axes[1].set_xticks(range(len(dallas_percentage.index)))  \n",
    "axes[1].set_xticklabels(dallas_percentage.index, rotation=45, ha='right')\n",
    "axes[1].set_ylim(0, 50)\n",
    "axes[1].set_ylabel(\"Percentage\")\n",
    "axes[1].tick_params(axis='y', which='both', labelleft=True)\n",
    "\n",
    "plt.tight_layout\n",
    "plt.show()\n"
   ]
  },
  {
   "cell_type": "markdown",
   "metadata": {},
   "source": [
    "Now I want to create a visual that shows the amount of each set of data and their outcomes.  This is where I want to include the nationwide numbers just to compare"
   ]
  },
  {
   "cell_type": "code",
   "execution_count": null,
   "metadata": {},
   "outputs": [],
   "source": [
    "print(merged_df)"
   ]
  },
  {
   "cell_type": "code",
   "execution_count": null,
   "metadata": {},
   "outputs": [],
   "source": [
    "count = merged_df['Louisville_intype'].count()\n",
    "print(\"Total of Louisville intakes in 2022:  \", count)\n",
    "\n",
    "merged_df['Dallas_Intake Date'] = pd.to_datetime(merged_df['Dallas_Intake Date'], errors='coerce')\n",
    "count2 = merged_df['Dallas_Intake Type'].count()\n",
    "print(\"Total of Dallas intakes in 2022:  \", count2)\n",
    "\n",
    "print(df2_grouped)"
   ]
  },
  {
   "cell_type": "markdown",
   "metadata": {},
   "source": [
    "Now I want to compare the amount of intakes to each state (Louisville to KY, Dallas to TX)"
   ]
  },
  {
   "cell_type": "code",
   "execution_count": 33,
   "metadata": {},
   "outputs": [
    {
     "data": {
      "image/png": "[encoded data removed]",
      "text/plain": [
       "<Figure size 1000x600 with 1 Axes>"
      ]
     },
     "metadata": {},
     "output_type": "display_data"
    }
   ],
   "source": [
    "state_intakes = df2_grouped.set_index('State')['Combined_National_Intake']\n",
    "\n",
    "louisville_intake = merged_df['Louisville_intype'].count()\n",
    "dallas_intake = merged_df['Dallas_Intake Type'].count()\n",
    "ky_intake = state_intakes.get('KY', 0)\n",
    "tx_intake = state_intakes.get('TX', 0)\n",
    "\n",
    "national_intake = df2_grouped['Combined_National_Intake'].sum()\n",
    "\n",
    "labels = ['Louisville', 'Kentucky', 'Dallas', 'Texas', 'KY/TX combined']\n",
    "values = [louisville_intake, ky_intake, dallas_intake, tx_intake, national_intake]\n",
    "\n",
    "plt.figure(figsize=(10, 6))\n",
    "sns.barplot(x=labels, y=values, hue=labels, palette='pastel', legend=False)\n",
    "\n",
    "plt.title(\"2022 Intake Counts: Louisville vs. Kentucky,  Dallas vs. Texas, and Combined KY/TX\")\n",
    "plt.xlabel(\"Various locations and their comparisons to state and national numbers\")\n",
    "plt.ylabel(\"Total Intakes\")\n",
    "plt.grid(axis='y', linestyle='--', alpha=0.7)\n",
    "\n",
    "for i, v in enumerate(values):\n",
    "    plt.text(i, v + 100, str(v), ha='center', fontsize=10)\n",
    "\n",
    "plt.show()\n"
   ]
  }
 ],
 "metadata": {
  "kernelspec": {
   "display_name": "Python 3",
   "language": "python",
   "name": "python3"
  },
  "language_info": {
   "codemirror_mode": {
    "name": "ipython",
    "version": 3
   },
   "file_extension": ".py",
   "mimetype": "text/x-python",
   "name": "python",
   "nbconvert_exporter": "python",
   "pygments_lexer": "ipython3",
   "version": "3.11.9"
  }
 },
 "nbformat": 4,
 "nbformat_minor": 2
}
